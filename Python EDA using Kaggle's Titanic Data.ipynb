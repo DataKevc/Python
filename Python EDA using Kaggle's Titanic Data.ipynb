{
 "cells": [
  {
   "cell_type": "markdown",
   "id": "14d6ef75",
   "metadata": {},
   "source": [
    "#Load libraries\n",
    "import pandas as pd\n",
    "import numpy as np\n",
    "\n",
    "#Load data\n",
    "df = pd.read_csv('titanic.csv')\n",
    "\n",
    "#View the data\n",
    "df.head()"
   ]
  },
  {
   "cell_type": "markdown",
   "id": "33e60702",
   "metadata": {
    "collapsed": true
   },
   "source": [
    "#View data\n",
    "df.head()"
   ]
  },
  {
   "cell_type": "markdown",
   "id": "9eb0afaa",
   "metadata": {
    "collapsed": true
   },
   "source": [
    "#Show basic information such as column names and data types\n",
    "df.info()\n",
    "\n",
    "#Show descriptive statistics of the data such as count, mean, standard deviation, and max vale\n",
    "\n",
    "df.describe()"
   ]
  },
  {
   "cell_type": "markdown",
   "id": "8b9f6521",
   "metadata": {
    "collapsed": true
   },
   "source": [
    "#Find null values\n",
    "\n",
    "df.isnull().sum()"
   ]
  },
  {
   "cell_type": "markdown",
   "id": "77a7c98f",
   "metadata": {
    "collapsed": true
   },
   "source": [
    "#Show the number of duplicate values\n",
    "\n",
    "df.duplicated().sum()"
   ]
  },
  {
   "cell_type": "markdown",
   "id": "8d33af39",
   "metadata": {
    "collapsed": true
   },
   "source": [
    "#Replace null values (user with caution)\n",
    "\n",
    "df.replace(np.nan,'0',inplace = True)  #replacing null values with 0"
   ]
  },
  {
   "cell_type": "code",
   "execution_count": null,
   "id": "b050504d",
   "metadata": {},
   "outputs": [],
   "source": [
    "#Show people count by sex and whether they survived\n",
    "\n",
    "df.groupby(['Sex','Survived'])['Survived'].count()\n",
    "\n",
    "Sex     Survived\n",
    "female  0            81\n",
    "        1           233\n",
    "male    0           468\n",
    "        1           109"
   ]
  },
  {
   "cell_type": "code",
   "execution_count": null,
   "id": "29ff0cca",
   "metadata": {},
   "outputs": [],
   "source": [
    "#Group people by their age - turning continous values into categorical values\n",
    "\n",
    "df['Age_band']=0\n",
    "df.loc[df['Age']<=16,'Age_band']=0\n",
    "df.loc[(df['Age']>16)&(df['Age']<=32),'Age_band']=1\n",
    "df.loc[(df['Age']>32)&(df['Age']<=48),'Age_band']=2\n",
    "df.loc[(df['Age']>48)&(df['Age']<=64),'Age_band']=3\n",
    "df.loc[df['Age']>64,'Age_band']=4\n",
    "df.head(2)"
   ]
  }
 ],
 "metadata": {
  "kernelspec": {
   "display_name": "Python 3 (ipykernel)",
   "language": "python",
   "name": "python3"
  },
  "language_info": {
   "codemirror_mode": {
    "name": "ipython",
    "version": 3
   },
   "file_extension": ".py",
   "mimetype": "text/x-python",
   "name": "python",
   "nbconvert_exporter": "python",
   "pygments_lexer": "ipython3",
   "version": "3.9.12"
  }
 },
 "nbformat": 4,
 "nbformat_minor": 5
}
